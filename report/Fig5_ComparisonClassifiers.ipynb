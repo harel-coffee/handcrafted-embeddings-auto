{
 "cells": [
  {
   "cell_type": "code",
   "execution_count": 1,
   "metadata": {},
   "outputs": [],
   "source": [
    "import matplotlib as mpl\n",
    "import numpy as np\n",
    "import pandas as pd\n",
    "import matplotlib.pyplot as plt\n",
    "%matplotlib inline  "
   ]
  },
  {
   "cell_type": "code",
   "execution_count": 2,
   "metadata": {},
   "outputs": [],
   "source": [
    "mpl.rcParams['text.usetex'] = True\n",
    "dvals = {\"code2vec\":r\"$\\textsc{code2vec}$\", 'HCBCX':r\"$\\textsc{HC(Binary)+CX(Norm)}$\",\n",
    "         \"BGCH\":r\"$\\textsc{CharSeq}$\", \"BGTK\":r\"$\\textsc{TokenSeq}$\"}\n",
    "fvecs = [\"BGCH\",\"BGTK\",\"HCBCX\",\"code2vec\"]"
   ]
  },
  {
   "cell_type": "code",
   "execution_count": 3,
   "metadata": {},
   "outputs": [
    {
     "data": {
      "image/png": "[encoded data removed]",
      "text/plain": [
       "<Figure size 432x288 with 1 Axes>"
      ]
     },
     "metadata": {
      "needs_background": "light"
     },
     "output_type": "display_data"
    }
   ],
   "source": [
    "# (a) Barplots over method names.\n",
    "\n",
    "from functools import reduce\n",
    "\n",
    "df = pd.read_csv(\"result.csv\", index_col=False, header=None)\n",
    "df.columns = [\"method\", \"vectors\", \"acc\", \"pre\", \"rec\", \"f1s\"]\n",
    "\n",
    "def get_f1(df, vec):\n",
    "    df = df.loc[df['vectors'] == vec]\n",
    "    df = df[[\"method\", \"f1s\"]]\n",
    "    df.columns = [\"method\", dvals[vec]]\n",
    "    return df\n",
    "    \n",
    "dfs = []\n",
    "for vec in fvecs:\n",
    "    tdf = get_f1(df, vec)\n",
    "    dfs.append(tdf)\n",
    "\n",
    "mdf = reduce(lambda left,right: pd.merge(left,right,on='method'), dfs)\n",
    "\n",
    "mdf.set_index(['method'])[mdf.columns.values.tolist()[1:]].plot.bar(rot=45)\n",
    "plt.xlabel('Name of Method', labelpad=10, fontsize=14)\n",
    "plt.ylabel('F1-Score (\\%)', fontsize=14)\n",
    "plt.xticks(rotation=45)\n",
    "plt.yticks(np.arange(0, 101, 25))\n",
    "plt.legend(loc='upper center', title=\"Type of feature vectors:\", \n",
    "           prop={'size': 7}, ncol=4, fancybox=True, shadow=True,\n",
    "           bbox_to_anchor=(0.5, 1.17))\n",
    "plt.gcf().subplots_adjust(bottom=0.25)\n",
    "plt.savefig(\"clfs-bar.jpg\", dpi=600)\n",
    "plt.show()"
   ]
  },
  {
   "cell_type": "code",
   "execution_count": 4,
   "metadata": {},
   "outputs": [
    {
     "data": {
      "image/png": "[encoded data removed]",
      "text/plain": [
       "<Figure size 720x504 with 1 Axes>"
      ]
     },
     "metadata": {
      "needs_background": "light"
     },
     "output_type": "display_data"
    }
   ],
   "source": [
    "# (b) Boxplots over feature vectors.\n",
    "\n",
    "df = pd.read_csv(\"result.csv\", index_col=False, header=None)\n",
    "df.columns = [\"method\", \"vectors\", \"acc\", \"pre\", \"rec\", \"f1s\"]\n",
    "\n",
    "def get_data(df, vecs):\n",
    "    data = []\n",
    "    for vec in vecs:\n",
    "        d = df.loc[df['vectors'] == vec][\"f1s\"].tolist()\n",
    "        data.append(d)\n",
    "    return data\n",
    "\n",
    "data = get_data(df, fvecs)\n",
    "\n",
    "# create boxplot\n",
    "fig = plt.figure(1, figsize=(10, 7))\n",
    "ax = fig.add_subplot(111)\n",
    "bp = ax.boxplot(data, patch_artist=True)\n",
    "\n",
    "# set colors and styles\n",
    "for box in bp['boxes']:\n",
    "    box.set(color='black', linewidth=2, alpha=1)\n",
    "    box.set(facecolor = 'green', alpha=0.3)\n",
    "\n",
    "for whisker in bp['whiskers']:\n",
    "    whisker.set(color='black', linewidth=2)\n",
    "\n",
    "for cap in bp['caps']:\n",
    "    cap.set(color='black', linewidth=2)\n",
    "\n",
    "for median in bp['medians']:\n",
    "    median.set(color='blue', linewidth=2, alpha=0.7)\n",
    "\n",
    "for flier in bp['fliers']:\n",
    "    flier.set(marker='o', color='black', alpha=0.5)\n",
    "\n",
    "# show plot \n",
    "labels = [item.get_text() for item in ax.get_xticklabels()]\n",
    "for i in range(len(labels)):\n",
    "    labels[i] = dvals[fvecs[i]]\n",
    "ax.set_xticklabels(labels, fontsize=15)\n",
    "plt.xlabel('Type of feature vectors', labelpad=10, fontsize=20)\n",
    "plt.ylabel('F1-Score (\\%)', fontsize=20)\n",
    "plt.gcf().subplots_adjust(bottom=0.25, top=0.8)\n",
    "plt.savefig(\"clfs_boxplot.png\", dpi=600)\n",
    "plt.show() "
   ]
  },
  {
   "cell_type": "code",
   "execution_count": null,
   "metadata": {},
   "outputs": [],
   "source": []
  }
 ],
 "metadata": {
  "kernelspec": {
   "display_name": "Python 3",
   "language": "python",
   "name": "python3"
  },
  "language_info": {
   "codemirror_mode": {
    "name": "ipython",
    "version": 3
   },
   "file_extension": ".py",
   "mimetype": "text/x-python",
   "name": "python",
   "nbconvert_exporter": "python",
   "pygments_lexer": "ipython3",
   "version": "3.7.7"
  }
 },
 "nbformat": 4,
 "nbformat_minor": 2
}
